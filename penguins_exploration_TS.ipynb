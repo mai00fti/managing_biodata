{
 "cells": [
  {
   "metadata": {},
   "cell_type": "markdown",
   "source": [
    "# Palmer Penguin Data Exploration\n",
    "This notebook loads a dataset on penguin properties and performs exploratory data analysis on the dataset.\\\n",
    "1. Install necessary packages\n",
    "2. Load the dataset using the kagglehub package\n",
    "3. Dataset properties\n",
    "4. Plot bill depth by species\n",
    "\n",
    "Initialize conda environment:\n",
    "\n",
    "```{sh}\n",
    "$ conda create -n explore_penguin_dataset -c conda-forge python=3.12 kagglehub pandas matplotlib\n",
    "```"
   ],
   "id": "6993ef95e4fbcf69"
  },
  {
   "metadata": {
    "ExecuteTime": {
     "end_time": "2025-05-23T06:33:45.482064Z",
     "start_time": "2025-05-23T06:33:42.632904Z"
    }
   },
   "cell_type": "code",
   "source": [
    "import kagglehub\n",
    "import pandas as pd\n",
    "import matplotlib.pyplot as plt\n",
    "import os"
   ],
   "id": "ec472920e387fc8e",
   "outputs": [
    {
     "name": "stderr",
     "output_type": "stream",
     "text": [
      "/Users/thiloschmid/Documents/bioinformatik_von_rna_und_proteinstrukturen/2025_04_07_uebung/.venv/lib/python3.13/site-packages/tqdm/auto.py:21: TqdmWarning: IProgress not found. Please update jupyter and ipywidgets. See https://ipywidgets.readthedocs.io/en/stable/user_install.html\n",
      "  from .autonotebook import tqdm as notebook_tqdm\n"
     ]
    }
   ],
   "execution_count": 1
  },
  {
   "metadata": {},
   "cell_type": "markdown",
   "source": [
    "kagglehub for downloading the dataset.\n",
    "Pandas for dataframe creation and data exploration."
   ],
   "id": "41c9c295eb216d60"
  },
  {
   "metadata": {
    "ExecuteTime": {
     "end_time": "2025-05-23T06:33:47.729923Z",
     "start_time": "2025-05-23T06:33:47.254891Z"
    }
   },
   "cell_type": "code",
   "source": [
    "path = kagglehub.dataset_download(\"samybaladram/palmers-penguin-dataset-extended\")\n",
    "\n",
    "output_dir_list = os.listdir(path)\n",
    "print(f\"Output dir list: {output_dir_list}\")\n",
    "path_to_csv = path + \"/\" + output_dir_list[1]\n",
    "print(f\"Full path: {path_to_csv}\")"
   ],
   "id": "1df3d7b73ce43392",
   "outputs": [
    {
     "name": "stdout",
     "output_type": "stream",
     "text": [
      "Output dir list: ['palmerpenguins_original.csv', 'palmerpenguins_extended.csv']\n",
      "Full path: /Users/thiloschmid/.cache/kagglehub/datasets/samybaladram/palmers-penguin-dataset-extended/versions/2/palmerpenguins_extended.csv\n"
     ]
    }
   ],
   "execution_count": 2
  },
  {
   "metadata": {},
   "cell_type": "markdown",
   "source": [
    "Kagglehub downloads the dataset to a directory in the cashe.\\\n",
    "Construct the correct path to the csv of the extended dataset."
   ],
   "id": "8cdcf338852dbf8e"
  },
  {
   "metadata": {
    "ExecuteTime": {
     "end_time": "2025-05-23T06:33:49.227628Z",
     "start_time": "2025-05-23T06:33:49.196208Z"
    }
   },
   "cell_type": "code",
   "source": [
    "\n",
    "penguins_df = pd.read_csv(path_to_csv)\n",
    "print(f\"Dataframe shape: {penguins_df.shape}\")\n",
    "print(f\"Number of NAs: {penguins_df.isnull().sum()}\")\n",
    "penguins_df.describe()"
   ],
   "id": "ab45cc83e8201ab2",
   "outputs": [
    {
     "name": "stdout",
     "output_type": "stream",
     "text": [
      "Dataframe shape: (3430, 11)\n",
      "Number of NAs: species              0\n",
      "island               0\n",
      "bill_length_mm       0\n",
      "bill_depth_mm        0\n",
      "flipper_length_mm    0\n",
      "body_mass_g          0\n",
      "sex                  0\n",
      "diet                 0\n",
      "life_stage           0\n",
      "health_metrics       0\n",
      "year                 0\n",
      "dtype: int64\n"
     ]
    },
    {
     "data": {
      "text/plain": [
       "       bill_length_mm  bill_depth_mm  flipper_length_mm   body_mass_g  \\\n",
       "count     3430.000000    3430.000000        3430.000000   3430.000000   \n",
       "mean        38.529825      18.447143         207.028863   4834.710496   \n",
       "std         13.175171       2.774428          28.944765   1311.091310   \n",
       "min         13.600000       9.100000         140.000000   2477.000000   \n",
       "25%         28.900000      16.600000         185.000000   3843.500000   \n",
       "50%         34.500000      18.400000         203.000000   4633.500000   \n",
       "75%         46.600000      20.300000         226.000000   5622.000000   \n",
       "max         88.200000      27.900000         308.000000  10549.000000   \n",
       "\n",
       "              year  \n",
       "count  3430.000000  \n",
       "mean   2023.348397  \n",
       "std       1.313797  \n",
       "min    2021.000000  \n",
       "25%    2022.000000  \n",
       "50%    2024.000000  \n",
       "75%    2024.000000  \n",
       "max    2025.000000  "
      ],
      "text/html": [
       "<div>\n",
       "<style scoped>\n",
       "    .dataframe tbody tr th:only-of-type {\n",
       "        vertical-align: middle;\n",
       "    }\n",
       "\n",
       "    .dataframe tbody tr th {\n",
       "        vertical-align: top;\n",
       "    }\n",
       "\n",
       "    .dataframe thead th {\n",
       "        text-align: right;\n",
       "    }\n",
       "</style>\n",
       "<table border=\"1\" class=\"dataframe\">\n",
       "  <thead>\n",
       "    <tr style=\"text-align: right;\">\n",
       "      <th></th>\n",
       "      <th>bill_length_mm</th>\n",
       "      <th>bill_depth_mm</th>\n",
       "      <th>flipper_length_mm</th>\n",
       "      <th>body_mass_g</th>\n",
       "      <th>year</th>\n",
       "    </tr>\n",
       "  </thead>\n",
       "  <tbody>\n",
       "    <tr>\n",
       "      <th>count</th>\n",
       "      <td>3430.000000</td>\n",
       "      <td>3430.000000</td>\n",
       "      <td>3430.000000</td>\n",
       "      <td>3430.000000</td>\n",
       "      <td>3430.000000</td>\n",
       "    </tr>\n",
       "    <tr>\n",
       "      <th>mean</th>\n",
       "      <td>38.529825</td>\n",
       "      <td>18.447143</td>\n",
       "      <td>207.028863</td>\n",
       "      <td>4834.710496</td>\n",
       "      <td>2023.348397</td>\n",
       "    </tr>\n",
       "    <tr>\n",
       "      <th>std</th>\n",
       "      <td>13.175171</td>\n",
       "      <td>2.774428</td>\n",
       "      <td>28.944765</td>\n",
       "      <td>1311.091310</td>\n",
       "      <td>1.313797</td>\n",
       "    </tr>\n",
       "    <tr>\n",
       "      <th>min</th>\n",
       "      <td>13.600000</td>\n",
       "      <td>9.100000</td>\n",
       "      <td>140.000000</td>\n",
       "      <td>2477.000000</td>\n",
       "      <td>2021.000000</td>\n",
       "    </tr>\n",
       "    <tr>\n",
       "      <th>25%</th>\n",
       "      <td>28.900000</td>\n",
       "      <td>16.600000</td>\n",
       "      <td>185.000000</td>\n",
       "      <td>3843.500000</td>\n",
       "      <td>2022.000000</td>\n",
       "    </tr>\n",
       "    <tr>\n",
       "      <th>50%</th>\n",
       "      <td>34.500000</td>\n",
       "      <td>18.400000</td>\n",
       "      <td>203.000000</td>\n",
       "      <td>4633.500000</td>\n",
       "      <td>2024.000000</td>\n",
       "    </tr>\n",
       "    <tr>\n",
       "      <th>75%</th>\n",
       "      <td>46.600000</td>\n",
       "      <td>20.300000</td>\n",
       "      <td>226.000000</td>\n",
       "      <td>5622.000000</td>\n",
       "      <td>2024.000000</td>\n",
       "    </tr>\n",
       "    <tr>\n",
       "      <th>max</th>\n",
       "      <td>88.200000</td>\n",
       "      <td>27.900000</td>\n",
       "      <td>308.000000</td>\n",
       "      <td>10549.000000</td>\n",
       "      <td>2025.000000</td>\n",
       "    </tr>\n",
       "  </tbody>\n",
       "</table>\n",
       "</div>"
      ]
     },
     "execution_count": 3,
     "metadata": {},
     "output_type": "execute_result"
    }
   ],
   "execution_count": 3
  },
  {
   "metadata": {},
   "cell_type": "markdown",
   "source": [
    "Display dataframe properties.\\\n",
    "Dataframe contains 3000 + rows with no NA values."
   ],
   "id": "b7feeebc94a6d27b"
  },
  {
   "metadata": {
    "ExecuteTime": {
     "end_time": "2025-05-23T06:33:50.784390Z",
     "start_time": "2025-05-23T06:33:50.772896Z"
    }
   },
   "cell_type": "code",
   "source": [
    "species = penguins_df['species'].unique()\n",
    "\n",
    "data_by_species = [penguins_df[penguins_df['species'] == s]['bill_depth_mm'] for s in species]"
   ],
   "id": "f8661fb8d7ccb522",
   "outputs": [],
   "execution_count": 4
  },
  {
   "metadata": {
    "ExecuteTime": {
     "end_time": "2025-05-23T06:33:51.609811Z",
     "start_time": "2025-05-23T06:33:51.450799Z"
    }
   },
   "cell_type": "code",
   "source": [
    "plt.figure(figsize=(8, 6))\n",
    "plt.boxplot(data_by_species, tick_labels=species)\n",
    "plt.title(\"Bill Depth by Penguin Species\")\n",
    "plt.xlabel(\"Species\")\n",
    "plt.ylabel(\"Bill Depth (mm)\")\n",
    "plt.grid(False)\n",
    "plt.show()"
   ],
   "id": "413b894a0178529b",
   "outputs": [
    {
     "data": {
      "text/plain": [
       "<Figure size 800x600 with 1 Axes>"
      ],
      "image/png": "[encoded data removed]"
     },
     "metadata": {},
     "output_type": "display_data"
    }
   ],
   "execution_count": 5
  },
  {
   "metadata": {},
   "cell_type": "markdown",
   "source": "Bill depth in mm is highest for Gentoo spec. and lowest for Adelie spec.",
   "id": "cb7e2d71e528c8ff"
  }
 ],
 "metadata": {
  "kernelspec": {
   "display_name": "Python 3",
   "language": "python",
   "name": "python3"
  },
  "language_info": {
   "codemirror_mode": {
    "name": "ipython",
    "version": 2
   },
   "file_extension": ".py",
   "mimetype": "text/x-python",
   "name": "python",
   "nbconvert_exporter": "python",
   "pygments_lexer": "ipython2",
   "version": "2.7.6"
  }
 },
 "nbformat": 4,
 "nbformat_minor": 5
}
